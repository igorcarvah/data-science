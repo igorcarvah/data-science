{
  "nbformat": 4,
  "nbformat_minor": 0,
  "metadata": {
    "colab": {
      "provenance": [],
      "authorship_tag": "ABX9TyNwffnHOntB0Cf2iifrN/jM",
      "include_colab_link": true
    },
    "kernelspec": {
      "name": "python3",
      "display_name": "Python 3"
    },
    "language_info": {
      "name": "python"
    }
  },
  "cells": [
    {
      "cell_type": "markdown",
      "metadata": {
        "id": "view-in-github",
        "colab_type": "text"
      },
      "source": [
        "<a href=\"https://colab.research.google.com/github/igorcarvah/data-science/blob/main/Untitled0.ipynb\" target=\"_parent\"><img src=\"https://colab.research.google.com/assets/colab-badge.svg\" alt=\"Open In Colab\"/></a>"
      ]
    },
    {
      "cell_type": "code",
      "execution_count": null,
      "metadata": {
        "id": "KMfu5kFXF6nm"
      },
      "outputs": [],
      "source": []
    },
    {
      "cell_type": "markdown",
      "source": [
        "## Estura de decisão"
      ],
      "metadata": {
        "id": "gvw3IkZ5GAcz"
      }
    },
    {
      "cell_type": "code",
      "source": [
        "nota = 7\n",
        "if nota >= 7:\n",
        "  print ('Aprovado')\n",
        "  print ('Parabénns')\n",
        "else:\n",
        "    print ('Reprovado')"
      ],
      "metadata": {
        "colab": {
          "base_uri": "https://localhost:8080/"
        },
        "id": "Yr0vW1qPGMHg",
        "outputId": "fccd0a95-063c-4f21-9449-93863c8805e1"
      },
      "execution_count": 5,
      "outputs": [
        {
          "output_type": "stream",
          "name": "stdout",
          "text": [
            "Aprovado\n",
            "Parabénns\n"
          ]
        }
      ]
    },
    {
      "cell_type": "code",
      "source": [
        "nota = 5\n",
        "if nota >= 7:\n",
        "  print  ('Parabéns')\n",
        "else:\n",
        "  print ('Reprovado')"
      ],
      "metadata": {
        "colab": {
          "base_uri": "https://localhost:8080/"
        },
        "id": "9dWlWr6tGwOT",
        "outputId": "597bc720-1dda-41b0-aa7e-ed93de895183"
      },
      "execution_count": 6,
      "outputs": [
        {
          "output_type": "stream",
          "name": "stdout",
          "text": [
            "Reprovado\n"
          ]
        }
      ]
    },
    {
      "cell_type": "code",
      "source": [],
      "metadata": {
        "id": "YdeGU8O6GwQS"
      },
      "execution_count": null,
      "outputs": []
    }
  ]
}